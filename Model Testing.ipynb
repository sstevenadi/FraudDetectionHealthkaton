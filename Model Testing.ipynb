{
 "cells": [
  {
   "cell_type": "code",
   "execution_count": 1,
   "outputs": [],
   "source": [
    "from sklearn.preprocessing import LabelEncoder\n",
    "from sklearn.preprocessing import StandardScaler\n",
    "from sklearn.metrics import classification_report, confusion_matrix, accuracy_score\n",
    "import numpy as np\n",
    "import pandas as pd\n",
    "import pickle"
   ],
   "metadata": {
    "collapsed": false,
    "pycharm": {
     "name": "#%%\n"
    }
   }
  },
  {
   "cell_type": "code",
   "execution_count": 4,
   "outputs": [
    {
     "data": {
      "text/plain": "        id  id_peserta  dati2 typefaskes  usia jenkel  pisat  \\\n0   165666         486     17         KL    48      P    1.0   \n1  1010828         520     17          A    63      L    1.0   \n2   166042         523     17         KL    53      P    1.0   \n3   168937         549     17         KL    54      P    1.0   \n4  1005899         549     17          A    53      P    1.0   \n\n                  tgldatang                 tglpulang  jenispel  ...  \\\n0  2018-07-25T17:00:00.000Z  2018-07-25T17:00:00.000Z         2  ...   \n1  2019-05-27T17:00:00.000Z  2019-05-30T17:00:00.000Z         1  ...   \n2  2019-07-16T17:00:00.000Z  2019-07-16T17:00:00.000Z         2  ...   \n3  2019-10-17T17:00:00.000Z  2019-10-17T17:00:00.000Z         2  ...   \n4  2018-04-18T17:00:00.000Z  2018-04-18T17:00:00.000Z         2  ...   \n\n        biaya jenispulang         cbg  kelasrawat  kdsa  kdsp  kdsr  kdsi  \\\n0    184300.0         1.0    Q-5-42-0           3  None  None  None  None   \n1  10628400.0         1.0  D-4-13-III           1  None  None  None  None   \n2    187300.0         1.0    Q-5-44-0           3  None  None  None  None   \n3    187300.0         1.0    Q-5-44-0           3  None  None  None  None   \n4    381600.0         1.0    Q-5-44-0           3  None  None  None  None   \n\n   kdsd label  \n0  None     0  \n1  None     0  \n2  None     0  \n3  None     0  \n4  None     0  \n\n[5 rows x 22 columns]",
      "text/html": "<div>\n<style scoped>\n    .dataframe tbody tr th:only-of-type {\n        vertical-align: middle;\n    }\n\n    .dataframe tbody tr th {\n        vertical-align: top;\n    }\n\n    .dataframe thead th {\n        text-align: right;\n    }\n</style>\n<table border=\"1\" class=\"dataframe\">\n  <thead>\n    <tr style=\"text-align: right;\">\n      <th></th>\n      <th>id</th>\n      <th>id_peserta</th>\n      <th>dati2</th>\n      <th>typefaskes</th>\n      <th>usia</th>\n      <th>jenkel</th>\n      <th>pisat</th>\n      <th>tgldatang</th>\n      <th>tglpulang</th>\n      <th>jenispel</th>\n      <th>...</th>\n      <th>biaya</th>\n      <th>jenispulang</th>\n      <th>cbg</th>\n      <th>kelasrawat</th>\n      <th>kdsa</th>\n      <th>kdsp</th>\n      <th>kdsr</th>\n      <th>kdsi</th>\n      <th>kdsd</th>\n      <th>label</th>\n    </tr>\n  </thead>\n  <tbody>\n    <tr>\n      <th>0</th>\n      <td>165666</td>\n      <td>486</td>\n      <td>17</td>\n      <td>KL</td>\n      <td>48</td>\n      <td>P</td>\n      <td>1.0</td>\n      <td>2018-07-25T17:00:00.000Z</td>\n      <td>2018-07-25T17:00:00.000Z</td>\n      <td>2</td>\n      <td>...</td>\n      <td>184300.0</td>\n      <td>1.0</td>\n      <td>Q-5-42-0</td>\n      <td>3</td>\n      <td>None</td>\n      <td>None</td>\n      <td>None</td>\n      <td>None</td>\n      <td>None</td>\n      <td>0</td>\n    </tr>\n    <tr>\n      <th>1</th>\n      <td>1010828</td>\n      <td>520</td>\n      <td>17</td>\n      <td>A</td>\n      <td>63</td>\n      <td>L</td>\n      <td>1.0</td>\n      <td>2019-05-27T17:00:00.000Z</td>\n      <td>2019-05-30T17:00:00.000Z</td>\n      <td>1</td>\n      <td>...</td>\n      <td>10628400.0</td>\n      <td>1.0</td>\n      <td>D-4-13-III</td>\n      <td>1</td>\n      <td>None</td>\n      <td>None</td>\n      <td>None</td>\n      <td>None</td>\n      <td>None</td>\n      <td>0</td>\n    </tr>\n    <tr>\n      <th>2</th>\n      <td>166042</td>\n      <td>523</td>\n      <td>17</td>\n      <td>KL</td>\n      <td>53</td>\n      <td>P</td>\n      <td>1.0</td>\n      <td>2019-07-16T17:00:00.000Z</td>\n      <td>2019-07-16T17:00:00.000Z</td>\n      <td>2</td>\n      <td>...</td>\n      <td>187300.0</td>\n      <td>1.0</td>\n      <td>Q-5-44-0</td>\n      <td>3</td>\n      <td>None</td>\n      <td>None</td>\n      <td>None</td>\n      <td>None</td>\n      <td>None</td>\n      <td>0</td>\n    </tr>\n    <tr>\n      <th>3</th>\n      <td>168937</td>\n      <td>549</td>\n      <td>17</td>\n      <td>KL</td>\n      <td>54</td>\n      <td>P</td>\n      <td>1.0</td>\n      <td>2019-10-17T17:00:00.000Z</td>\n      <td>2019-10-17T17:00:00.000Z</td>\n      <td>2</td>\n      <td>...</td>\n      <td>187300.0</td>\n      <td>1.0</td>\n      <td>Q-5-44-0</td>\n      <td>3</td>\n      <td>None</td>\n      <td>None</td>\n      <td>None</td>\n      <td>None</td>\n      <td>None</td>\n      <td>0</td>\n    </tr>\n    <tr>\n      <th>4</th>\n      <td>1005899</td>\n      <td>549</td>\n      <td>17</td>\n      <td>A</td>\n      <td>53</td>\n      <td>P</td>\n      <td>1.0</td>\n      <td>2018-04-18T17:00:00.000Z</td>\n      <td>2018-04-18T17:00:00.000Z</td>\n      <td>2</td>\n      <td>...</td>\n      <td>381600.0</td>\n      <td>1.0</td>\n      <td>Q-5-44-0</td>\n      <td>3</td>\n      <td>None</td>\n      <td>None</td>\n      <td>None</td>\n      <td>None</td>\n      <td>None</td>\n      <td>0</td>\n    </tr>\n  </tbody>\n</table>\n<p>5 rows × 22 columns</p>\n</div>"
     },
     "execution_count": 4,
     "metadata": {},
     "output_type": "execute_result"
    }
   ],
   "source": [
    "df = pd.read_csv(\"datasets/main_data.csv\")\n",
    "df.head()"
   ],
   "metadata": {
    "collapsed": false,
    "pycharm": {
     "name": "#%%\n"
    }
   }
  },
  {
   "cell_type": "code",
   "execution_count": 5,
   "outputs": [
    {
     "data": {
      "text/plain": "   dati2 typefaskes  usia jenkel  pisat  jenispel politujuan diagfktp  \\\n0     17         KL    48      P    1.0         2        THT    L02.8   \n1     17          A    63      L    1.0         1        NaN    R23.1   \n2     17         KL    53      P    1.0         2        INT    E10.5   \n3     17         KL    54      P    1.0         2        MAT    H54.2   \n4     17          A    53      P    1.0         2        SAR    M54.5   \n\n        biaya  jenispulang         cbg  kelasrawat  label  \n0    184300.0          1.0    Q-5-42-0           3      0  \n1  10628400.0          1.0  D-4-13-III           1      0  \n2    187300.0          1.0    Q-5-44-0           3      0  \n3    187300.0          1.0    Q-5-44-0           3      0  \n4    381600.0          1.0    Q-5-44-0           3      0  ",
      "text/html": "<div>\n<style scoped>\n    .dataframe tbody tr th:only-of-type {\n        vertical-align: middle;\n    }\n\n    .dataframe tbody tr th {\n        vertical-align: top;\n    }\n\n    .dataframe thead th {\n        text-align: right;\n    }\n</style>\n<table border=\"1\" class=\"dataframe\">\n  <thead>\n    <tr style=\"text-align: right;\">\n      <th></th>\n      <th>dati2</th>\n      <th>typefaskes</th>\n      <th>usia</th>\n      <th>jenkel</th>\n      <th>pisat</th>\n      <th>jenispel</th>\n      <th>politujuan</th>\n      <th>diagfktp</th>\n      <th>biaya</th>\n      <th>jenispulang</th>\n      <th>cbg</th>\n      <th>kelasrawat</th>\n      <th>label</th>\n    </tr>\n  </thead>\n  <tbody>\n    <tr>\n      <th>0</th>\n      <td>17</td>\n      <td>KL</td>\n      <td>48</td>\n      <td>P</td>\n      <td>1.0</td>\n      <td>2</td>\n      <td>THT</td>\n      <td>L02.8</td>\n      <td>184300.0</td>\n      <td>1.0</td>\n      <td>Q-5-42-0</td>\n      <td>3</td>\n      <td>0</td>\n    </tr>\n    <tr>\n      <th>1</th>\n      <td>17</td>\n      <td>A</td>\n      <td>63</td>\n      <td>L</td>\n      <td>1.0</td>\n      <td>1</td>\n      <td>NaN</td>\n      <td>R23.1</td>\n      <td>10628400.0</td>\n      <td>1.0</td>\n      <td>D-4-13-III</td>\n      <td>1</td>\n      <td>0</td>\n    </tr>\n    <tr>\n      <th>2</th>\n      <td>17</td>\n      <td>KL</td>\n      <td>53</td>\n      <td>P</td>\n      <td>1.0</td>\n      <td>2</td>\n      <td>INT</td>\n      <td>E10.5</td>\n      <td>187300.0</td>\n      <td>1.0</td>\n      <td>Q-5-44-0</td>\n      <td>3</td>\n      <td>0</td>\n    </tr>\n    <tr>\n      <th>3</th>\n      <td>17</td>\n      <td>KL</td>\n      <td>54</td>\n      <td>P</td>\n      <td>1.0</td>\n      <td>2</td>\n      <td>MAT</td>\n      <td>H54.2</td>\n      <td>187300.0</td>\n      <td>1.0</td>\n      <td>Q-5-44-0</td>\n      <td>3</td>\n      <td>0</td>\n    </tr>\n    <tr>\n      <th>4</th>\n      <td>17</td>\n      <td>A</td>\n      <td>53</td>\n      <td>P</td>\n      <td>1.0</td>\n      <td>2</td>\n      <td>SAR</td>\n      <td>M54.5</td>\n      <td>381600.0</td>\n      <td>1.0</td>\n      <td>Q-5-44-0</td>\n      <td>3</td>\n      <td>0</td>\n    </tr>\n  </tbody>\n</table>\n</div>"
     },
     "execution_count": 5,
     "metadata": {},
     "output_type": "execute_result"
    }
   ],
   "source": [
    "df = df.drop(columns=['id', 'id_peserta', 'tgldatang', 'tglpulang', 'kdsa', 'kdsp', 'kdsr', 'kdsi', 'kdsd'] )\n",
    "df.head()"
   ],
   "metadata": {
    "collapsed": false,
    "pycharm": {
     "name": "#%%\n"
    }
   }
  },
  {
   "cell_type": "code",
   "execution_count": null,
   "outputs": [],
   "source": [],
   "metadata": {
    "collapsed": false,
    "pycharm": {
     "name": "#%%\n"
    }
   }
  }
 ],
 "metadata": {
  "kernelspec": {
   "display_name": "Python 3",
   "language": "python",
   "name": "python3"
  },
  "language_info": {
   "codemirror_mode": {
    "name": "ipython",
    "version": 2
   },
   "file_extension": ".py",
   "mimetype": "text/x-python",
   "name": "python",
   "nbconvert_exporter": "python",
   "pygments_lexer": "ipython2",
   "version": "2.7.6"
  }
 },
 "nbformat": 4,
 "nbformat_minor": 0
}